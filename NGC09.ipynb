{
 "cells": [
  {
   "cell_type": "markdown",
   "source": [
    "Pada tugas kali ini, kami akan melakukan perhitungan gradient untuk fungsi\r\n",
    "$$3x + 4y = 5$$\r\n",
    "Atau dapat juga dituliskan menjadi\r\n",
    "$$ f (x,y) = 3x + 4y - 5\\;$$ \r\n"
   ],
   "metadata": {}
  },
  {
   "cell_type": "markdown",
   "source": [
    "Kami akan melakukan perhitungan gradient secara manual yaitu dengan menghitung turunan pertama untuk x dan y:\r\n",
    "$${\\partial_x}{f} = \\dfrac{\\partial f}{\\partial x} = 3$$\r\n",
    "$${\\partial_y}{f} = \\dfrac{\\partial f}{\\partial y} = 4$$\r\n",
    "Sehingga untuk gradient dari fungsi diatas adalah\r\n",
    "$$\\nabla f(x,y) = \r\n",
    "\\dfrac {{\\partial_x}{f}}\r\n",
    "{{\\partial_y}{f}}\r\n",
    " = \r\n",
    "\\begin{pmatrix}\r\n",
    "3\\\\ \r\n",
    "4\\\\\r\n",
    "\\end{pmatrix}$$\r\n",
    "Kemudian selanjutnya kita akan melakukan perhitungan gradient menggunakan python\r\n"
   ],
   "metadata": {}
  },
  {
   "cell_type": "code",
   "execution_count": 2,
   "source": [
    "#Proses perhitungan gradient dengan menggunakan python\r\n",
    "import sympy as sy                              #Proses import library sympy\r\n",
    "from sympy.tensor.array import derive_by_array  #Proses import module derive_by_array untuk perhitungan gradient\r\n",
    "\r\n",
    "x,y = sy.symbols(\"x y\")\r\n",
    "f = 3*x + 4*y - 5\r\n",
    "derive_by_array(f, (x,y))\r\n"
   ],
   "outputs": [
    {
     "output_type": "execute_result",
     "data": {
      "text/plain": [
       "[3, 4]"
      ],
      "text/latex": [
       "$\\displaystyle \\left[\\begin{matrix}3 & 4\\end{matrix}\\right]$"
      ]
     },
     "metadata": {},
     "execution_count": 2
    }
   ],
   "metadata": {}
  },
  {
   "cell_type": "markdown",
   "source": [
    "Dari hasil perhitungan diatas, baik secara manual maupun secara python, memiliki hasil yang sama yaitu\r\n",
    "$$\\begin{pmatrix}\r\n",
    "3\\\\\r\n",
    "4\\\\\r\n",
    "\\end{pmatrix}\r\n",
    "$$"
   ],
   "metadata": {}
  }
 ],
 "metadata": {
  "orig_nbformat": 4,
  "language_info": {
   "name": "python",
   "version": "3.8.8",
   "mimetype": "text/x-python",
   "codemirror_mode": {
    "name": "ipython",
    "version": 3
   },
   "pygments_lexer": "ipython3",
   "nbconvert_exporter": "python",
   "file_extension": ".py"
  },
  "kernelspec": {
   "name": "python3",
   "display_name": "Python 3.8.8 64-bit ('base': conda)"
  },
  "interpreter": {
   "hash": "6f5a3333282cc3cade2967a8d6ad94d5be3d1b19105904835c796cab9a1eb63b"
  }
 },
 "nbformat": 4,
 "nbformat_minor": 2
}